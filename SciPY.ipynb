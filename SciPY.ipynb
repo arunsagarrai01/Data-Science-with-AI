{
 "cells": [
  {
   "cell_type": "code",
   "execution_count": 3,
   "id": "250688ed",
   "metadata": {},
   "outputs": [
    {
     "name": "stdout",
     "output_type": "stream",
     "text": [
      "  message: Optimization terminated successfully.\n",
      "  success: True\n",
      "   status: 0\n",
      "      fun: -7.945823375615215\n",
      "        x: [-1.306e+00]\n",
      "      nit: 5\n",
      "      jac: [-1.192e-06]\n",
      " hess_inv: [[ 8.589e-02]]\n",
      "     nfev: 12\n",
      "     njev: 6\n"
     ]
    }
   ],
   "source": [
    "# Optminization\n",
    "\n",
    "from scipy.optimize import minimize\n",
    "import numpy as np\n",
    "\n",
    "def f(x):\n",
    "    return x**2 + 10*np.sin(x)\n",
    "\n",
    "result = minimize(f, x0=0)\n",
    "print(result)\n"
   ]
  },
  {
   "cell_type": "code",
   "execution_count": 4,
   "id": "594c174e",
   "metadata": {},
   "outputs": [
    {
     "name": "stdout",
     "output_type": "stream",
     "text": [
      "integral of sin(x) from o to pi is 2.0\n"
     ]
    }
   ],
   "source": [
    "from scipy.integrate import quad\n",
    "result ,_ = quad(np.sin, 0, np.pi)\n",
    "print('integral of sin(x) from o to pi is', result)"
   ]
  },
  {
   "cell_type": "code",
   "execution_count": 10,
   "id": "f2fd8f59",
   "metadata": {},
   "outputs": [
    {
     "name": "stdout",
     "output_type": "stream",
     "text": [
      "9.0\n"
     ]
    }
   ],
   "source": [
    "# interpolation\n",
    "from scipy.interpolate import interp1d\n",
    "x = np.array([0,1,2,3,4,5])\n",
    "y = np.array([0,2,4,6,8,10])\n",
    "f = interp1d(x, y, kind='linear')\n",
    "print(f(4.5))"
   ]
  },
  {
   "cell_type": "code",
   "execution_count": 14,
   "id": "6179a87b",
   "metadata": {},
   "outputs": [
    {
     "name": "stdout",
     "output_type": "stream",
     "text": [
      "solution of the system of equations is [2. 3.]\n"
     ]
    }
   ],
   "source": [
    "# Linear algebra\n",
    "from scipy.linalg import solve\n",
    "A = np.array([[3,1],[1,2]])\n",
    "B = np.array([9,8])\n",
    "x = solve(A,B)\n",
    "print(\"solution of the system of equations is\", x)"
   ]
  },
  {
   "cell_type": "code",
   "execution_count": 15,
   "id": "7559f83d",
   "metadata": {},
   "outputs": [
    {
     "name": "stdout",
     "output_type": "stream",
     "text": [
      "t-statistic: -0.08976244386965987\n",
      "p-value: 0.9294672563429089\n"
     ]
    }
   ],
   "source": [
    "#statistics\n",
    "from scipy.stats import ttest_ind\n",
    "\n",
    "group1 =[2,9,3,0,2,5,5,6,3,2]\n",
    "group2 = [3,8,2,7,4,0,2,4,3,5]\n",
    "\n",
    "t_stat, p_value = ttest_ind(group1, group2)\n",
    "print(\"t-statistic:\", t_stat)\n",
    "print(\"p-value:\", p_value)"
   ]
  },
  {
   "cell_type": "code",
   "execution_count": 16,
   "id": "bf6c4a1d",
   "metadata": {},
   "outputs": [
    {
     "name": "stdout",
     "output_type": "stream",
     "text": [
      "Peaks found at indices: [1 3 5 7 9]\n"
     ]
    }
   ],
   "source": [
    "# signal processing\n",
    "from scipy.signal import find_peaks\n",
    "\n",
    "data = np.array([0,1,0,2,0,3,0,2,0,1,0])\n",
    "\n",
    "peaks, _ = find_peaks(data)\n",
    "\n",
    "print (\"Peaks found at indices:\", peaks)"
   ]
  },
  {
   "cell_type": "code",
   "execution_count": 17,
   "id": "0bea9f78",
   "metadata": {},
   "outputs": [
    {
     "name": "stdout",
     "output_type": "stream",
     "text": [
      "FFT of the array is: [45. -0.j         -5.+15.38841769j -5. +6.8819096j  -5. +3.63271264j\n",
      " -5. +1.62459848j -5. -0.j         -5. -1.62459848j -5. -3.63271264j\n",
      " -5. -6.8819096j  -5.-15.38841769j]\n"
     ]
    }
   ],
   "source": [
    "from scipy.fft import fft\n",
    "\n",
    "x = np.array([0, 1, 2, 3, 4, 5, 6, 7, 8, 9])\n",
    "y=fft(x)\n",
    "print(\"FFT of the array is:\", y)"
   ]
  },
  {
   "cell_type": "code",
   "execution_count": 18,
   "id": "9f35f7a4",
   "metadata": {},
   "outputs": [
    {
     "name": "stdout",
     "output_type": "stream",
     "text": [
      "Sparse matrix representation:\n",
      " <Compressed Sparse Row sparse matrix of dtype 'int64'\n",
      "\twith 2 stored elements and shape (3, 6)>\n",
      "  Coords\tValues\n",
      "  (0, 2)\t1\n",
      "  (1, 3)\t1\n"
     ]
    }
   ],
   "source": [
    "from scipy.sparse import csr_matrix\n",
    "\n",
    "matrix = np.array([[0, 0, 1, 0, 0, 0],\n",
    " [0, 0, 0, 1,  0, 0],\n",
    "  [0, 0, 0, 0 ,0 , 0]])\n",
    "\n",
    "sparse_matrix = csr_matrix(matrix)\n",
    "print(\"Sparse matrix representation:\\n\", sparse_matrix)"
   ]
  },
  {
   "cell_type": "code",
   "execution_count": null,
   "id": "40596c9b",
   "metadata": {},
   "outputs": [],
   "source": [
    "# data visual storytelling\n",
    "\n",
    "# how to create data stories\n",
    "\n"
   ]
  },
  {
   "cell_type": "code",
   "execution_count": null,
   "id": "39c4dc82",
   "metadata": {},
   "outputs": [],
   "source": []
  },
  {
   "cell_type": "code",
   "execution_count": null,
   "id": "073464e5",
   "metadata": {},
   "outputs": [],
   "source": []
  },
  {
   "cell_type": "code",
   "execution_count": null,
   "id": "562f17ce",
   "metadata": {},
   "outputs": [],
   "source": []
  },
  {
   "cell_type": "code",
   "execution_count": null,
   "id": "09f42f09",
   "metadata": {},
   "outputs": [],
   "source": []
  }
 ],
 "metadata": {
  "kernelspec": {
   "display_name": ".venv",
   "language": "python",
   "name": "python3"
  },
  "language_info": {
   "codemirror_mode": {
    "name": "ipython",
    "version": 3
   },
   "file_extension": ".py",
   "mimetype": "text/x-python",
   "name": "python",
   "nbconvert_exporter": "python",
   "pygments_lexer": "ipython3",
   "version": "3.12.3"
  }
 },
 "nbformat": 4,
 "nbformat_minor": 5
}

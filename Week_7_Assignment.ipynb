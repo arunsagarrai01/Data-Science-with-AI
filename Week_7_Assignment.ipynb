{
 "cells": [
  {
   "cell_type": "code",
   "execution_count": 2,
   "id": "4fa64dd2",
   "metadata": {},
   "outputs": [
    {
     "ename": "ModuleNotFoundError",
     "evalue": "No module named 'pandas'",
     "output_type": "error",
     "traceback": [
      "\u001b[31m---------------------------------------------------------------------------\u001b[39m",
      "\u001b[31mModuleNotFoundError\u001b[39m                       Traceback (most recent call last)",
      "\u001b[36mCell\u001b[39m\u001b[36m \u001b[39m\u001b[32mIn[2]\u001b[39m\u001b[32m, line 1\u001b[39m\n\u001b[32m----> \u001b[39m\u001b[32m1\u001b[39m \u001b[38;5;28;01mimport\u001b[39;00m\u001b[38;5;250m \u001b[39m\u001b[34;01mpandas\u001b[39;00m\u001b[38;5;250m \u001b[39m\u001b[38;5;28;01mas\u001b[39;00m\u001b[38;5;250m \u001b[39m\u001b[34;01mpd\u001b[39;00m\n\u001b[32m      2\u001b[39m \u001b[38;5;28;01mimport\u001b[39;00m\u001b[38;5;250m \u001b[39m\u001b[34;01mmatplotlib\u001b[39;00m\u001b[34;01m.\u001b[39;00m\u001b[34;01mpyplot\u001b[39;00m\u001b[38;5;250m \u001b[39m\u001b[38;5;28;01mas\u001b[39;00m\u001b[38;5;250m \u001b[39m\u001b[34;01mplt\u001b[39;00m\n\u001b[32m      4\u001b[39m df = pd.read_csv(\u001b[33m'\u001b[39m\u001b[33mdata.csv\u001b[39m\u001b[33m'\u001b[39m)\n",
      "\u001b[31mModuleNotFoundError\u001b[39m: No module named 'pandas'"
     ]
    }
   ],
   "source": [
    "import pandas as pd\n",
    "import matplotlib.pyplot as plt\n",
    "\n",
    "df = pd.read_csv('data.csv')\n",
    "nepal_data = df[df['countriesAndTerritories'] == 'Nepal']\n",
    "nepal_data['dateRep'] = pd.to_datetime(nepal_data['dateRep'], dayfirst=True)\n",
    "nepal_data = nepal_data.sort_values('dateRep')\n",
    "\n",
    "plt.plot(nepal_data['dateRep'], nepal_data['cases'], label='Cases')\n",
    "plt.plot(nepal_data['dateRep'], nepal_data['deaths'], label='Deaths')\n",
    "plt.legend()\n",
    "plt.title('COVID-19 Trend in Nepal')\n",
    "plt.xlabel('Date')\n",
    "plt.ylabel('Count')\n",
    "plt.grid()\n",
    "plt.show()\n"
   ]
  },
  {
   "cell_type": "code",
   "execution_count": 3,
   "id": "40a96287",
   "metadata": {},
   "outputs": [
    {
     "ename": "NameError",
     "evalue": "name 'df' is not defined",
     "output_type": "error",
     "traceback": [
      "\u001b[31m---------------------------------------------------------------------------\u001b[39m",
      "\u001b[31mNameError\u001b[39m                                 Traceback (most recent call last)",
      "\u001b[36mCell\u001b[39m\u001b[36m \u001b[39m\u001b[32mIn[3]\u001b[39m\u001b[32m, line 1\u001b[39m\n\u001b[32m----> \u001b[39m\u001b[32m1\u001b[39m top_countries = \u001b[43mdf\u001b[49m.groupby(\u001b[33m'\u001b[39m\u001b[33mcountriesAndTerritories\u001b[39m\u001b[33m'\u001b[39m)[\u001b[33m'\u001b[39m\u001b[33mcases\u001b[39m\u001b[33m'\u001b[39m].sum().sort_values(ascending=\u001b[38;5;28;01mFalse\u001b[39;00m).head(\u001b[32m10\u001b[39m)\n\u001b[32m      2\u001b[39m top_countries.plot(kind=\u001b[33m'\u001b[39m\u001b[33mbar\u001b[39m\u001b[33m'\u001b[39m, color=\u001b[33m'\u001b[39m\u001b[33mtomato\u001b[39m\u001b[33m'\u001b[39m)\n\u001b[32m      3\u001b[39m plt.title(\u001b[33m'\u001b[39m\u001b[33mTop 10 Countries by Total COVID-19 Cases\u001b[39m\u001b[33m'\u001b[39m)\n",
      "\u001b[31mNameError\u001b[39m: name 'df' is not defined"
     ]
    }
   ],
   "source": [
    "top_countries = df.groupby('countriesAndTerritories')['cases'].sum().sort_values(ascending=False).head(10)\n",
    "top_countries.plot(kind='bar', color='tomato')\n",
    "plt.title('Top 10 Countries by Total COVID-19 Cases')\n",
    "plt.ylabel('Total Cases')\n",
    "plt.xticks(rotation=45)\n",
    "plt.grid(axis='y')\n",
    "plt.show()\n"
   ]
  },
  {
   "cell_type": "code",
   "execution_count": 4,
   "id": "9786d8e8",
   "metadata": {},
   "outputs": [
    {
     "ename": "ModuleNotFoundError",
     "evalue": "No module named 'seaborn'",
     "output_type": "error",
     "traceback": [
      "\u001b[31m---------------------------------------------------------------------------\u001b[39m",
      "\u001b[31mModuleNotFoundError\u001b[39m                       Traceback (most recent call last)",
      "\u001b[36mCell\u001b[39m\u001b[36m \u001b[39m\u001b[32mIn[4]\u001b[39m\u001b[32m, line 1\u001b[39m\n\u001b[32m----> \u001b[39m\u001b[32m1\u001b[39m \u001b[38;5;28;01mimport\u001b[39;00m\u001b[38;5;250m \u001b[39m\u001b[34;01mseaborn\u001b[39;00m\u001b[38;5;250m \u001b[39m\u001b[38;5;28;01mas\u001b[39;00m\u001b[38;5;250m \u001b[39m\u001b[34;01msns\u001b[39;00m\n\u001b[32m      2\u001b[39m sns.boxplot(x=\u001b[33m'\u001b[39m\u001b[33mcontinentExp\u001b[39m\u001b[33m'\u001b[39m, y=\u001b[33m'\u001b[39m\u001b[33mcases\u001b[39m\u001b[33m'\u001b[39m, data=df)\n\u001b[32m      3\u001b[39m plt.yscale(\u001b[33m'\u001b[39m\u001b[33mlog\u001b[39m\u001b[33m'\u001b[39m)  \u001b[38;5;66;03m# Optional: handle large values\u001b[39;00m\n",
      "\u001b[31mModuleNotFoundError\u001b[39m: No module named 'seaborn'"
     ]
    }
   ],
   "source": [
    "import seaborn as sns\n",
    "sns.boxplot(x='continentExp', y='cases', data=df)\n",
    "plt.yscale('log')  # Optional: handle large values\n",
    "plt.title('Distribution of Daily Cases by Continent')\n",
    "plt.show()\n"
   ]
  },
  {
   "cell_type": "code",
   "execution_count": 5,
   "id": "83182334",
   "metadata": {},
   "outputs": [
    {
     "ename": "NameError",
     "evalue": "name 'df' is not defined",
     "output_type": "error",
     "traceback": [
      "\u001b[31m---------------------------------------------------------------------------\u001b[39m",
      "\u001b[31mNameError\u001b[39m                                 Traceback (most recent call last)",
      "\u001b[36mCell\u001b[39m\u001b[36m \u001b[39m\u001b[32mIn[5]\u001b[39m\u001b[32m, line 1\u001b[39m\n\u001b[32m----> \u001b[39m\u001b[32m1\u001b[39m total_cases = \u001b[43mdf\u001b[49m.groupby([\u001b[33m'\u001b[39m\u001b[33mcountriesAndTerritories\u001b[39m\u001b[33m'\u001b[39m, \u001b[33m'\u001b[39m\u001b[33mcontinentExp\u001b[39m\u001b[33m'\u001b[39m]).agg({\n\u001b[32m      2\u001b[39m     \u001b[33m'\u001b[39m\u001b[33mcases\u001b[39m\u001b[33m'\u001b[39m: \u001b[33m'\u001b[39m\u001b[33msum\u001b[39m\u001b[33m'\u001b[39m, \u001b[33m'\u001b[39m\u001b[33mpopData2019\u001b[39m\u001b[33m'\u001b[39m: \u001b[33m'\u001b[39m\u001b[33mfirst\u001b[39m\u001b[33m'\u001b[39m}).reset_index()\n\u001b[32m      3\u001b[39m sns.scatterplot(x=\u001b[33m'\u001b[39m\u001b[33mpopData2019\u001b[39m\u001b[33m'\u001b[39m, y=\u001b[33m'\u001b[39m\u001b[33mcases\u001b[39m\u001b[33m'\u001b[39m, hue=\u001b[33m'\u001b[39m\u001b[33mcontinentExp\u001b[39m\u001b[33m'\u001b[39m, data=total_cases)\n\u001b[32m      4\u001b[39m plt.title(\u001b[33m'\u001b[39m\u001b[33mPopulation vs Total Cases by Country\u001b[39m\u001b[33m'\u001b[39m)\n",
      "\u001b[31mNameError\u001b[39m: name 'df' is not defined"
     ]
    }
   ],
   "source": [
    "total_cases = df.groupby(['countriesAndTerritories', 'continentExp']).agg({\n",
    "    'cases': 'sum', 'popData2019': 'first'}).reset_index()\n",
    "sns.scatterplot(x='popData2019', y='cases', hue='continentExp', data=total_cases)\n",
    "plt.title('Population vs Total Cases by Country')\n",
    "plt.xlabel('Population (2019)')\n",
    "plt.ylabel('Total Cases')\n",
    "plt.xscale('log')\n",
    "plt.yscale('log')\n",
    "plt.grid()\n",
    "plt.show()\n"
   ]
  },
  {
   "cell_type": "code",
   "execution_count": 6,
   "id": "6887f10a",
   "metadata": {},
   "outputs": [
    {
     "ename": "NameError",
     "evalue": "name 'df' is not defined",
     "output_type": "error",
     "traceback": [
      "\u001b[31m---------------------------------------------------------------------------\u001b[39m",
      "\u001b[31mNameError\u001b[39m                                 Traceback (most recent call last)",
      "\u001b[36mCell\u001b[39m\u001b[36m \u001b[39m\u001b[32mIn[6]\u001b[39m\u001b[32m, line 1\u001b[39m\n\u001b[32m----> \u001b[39m\u001b[32m1\u001b[39m corr_data = \u001b[43mdf\u001b[49m[[\u001b[33m'\u001b[39m\u001b[33mcases\u001b[39m\u001b[33m'\u001b[39m, \u001b[33m'\u001b[39m\u001b[33mdeaths\u001b[39m\u001b[33m'\u001b[39m, \u001b[33m'\u001b[39m\u001b[33mpopData2019\u001b[39m\u001b[33m'\u001b[39m, \u001b[33m'\u001b[39m\u001b[33mCumulative_number_for_14_days_of_COVID-19_cases_per_100000\u001b[39m\u001b[33m'\u001b[39m]]\n\u001b[32m      2\u001b[39m corr_matrix = corr_data.corr()\n\u001b[32m      3\u001b[39m sns.heatmap(corr_matrix, annot=\u001b[38;5;28;01mTrue\u001b[39;00m, cmap=\u001b[33m'\u001b[39m\u001b[33mcoolwarm\u001b[39m\u001b[33m'\u001b[39m)\n",
      "\u001b[31mNameError\u001b[39m: name 'df' is not defined"
     ]
    }
   ],
   "source": [
    "corr_data = df[['cases', 'deaths', 'popData2019', 'Cumulative_number_for_14_days_of_COVID-19_cases_per_100000']]\n",
    "corr_matrix = corr_data.corr()\n",
    "sns.heatmap(corr_matrix, annot=True, cmap='coolwarm')\n",
    "plt.title('Correlation Matrix')\n",
    "plt.show()\n"
   ]
  },
  {
   "cell_type": "code",
   "execution_count": 7,
   "id": "024e0f3d",
   "metadata": {},
   "outputs": [
    {
     "ename": "NameError",
     "evalue": "name 'sns' is not defined",
     "output_type": "error",
     "traceback": [
      "\u001b[31m---------------------------------------------------------------------------\u001b[39m",
      "\u001b[31mNameError\u001b[39m                                 Traceback (most recent call last)",
      "\u001b[36mCell\u001b[39m\u001b[36m \u001b[39m\u001b[32mIn[7]\u001b[39m\u001b[32m, line 1\u001b[39m\n\u001b[32m----> \u001b[39m\u001b[32m1\u001b[39m palette = \u001b[43msns\u001b[49m.color_palette([\u001b[33m'\u001b[39m\u001b[33m#1f77b4\u001b[39m\u001b[33m'\u001b[39m, \u001b[33m'\u001b[39m\u001b[33m#ff7f0e\u001b[39m\u001b[33m'\u001b[39m, \u001b[33m'\u001b[39m\u001b[33m#2ca02c\u001b[39m\u001b[33m'\u001b[39m, \u001b[33m'\u001b[39m\u001b[33m#d62728\u001b[39m\u001b[33m'\u001b[39m])\n\u001b[32m      2\u001b[39m avg_deaths = df.groupby(\u001b[33m'\u001b[39m\u001b[33mcontinentExp\u001b[39m\u001b[33m'\u001b[39m)[\u001b[33m'\u001b[39m\u001b[33mdeaths\u001b[39m\u001b[33m'\u001b[39m].mean().sort_values()\n\u001b[32m      3\u001b[39m sns.barplot(x=avg_deaths.index, y=avg_deaths.values, palette=palette)\n",
      "\u001b[31mNameError\u001b[39m: name 'sns' is not defined"
     ]
    }
   ],
   "source": [
    "palette = sns.color_palette(['#1f77b4', '#ff7f0e', '#2ca02c', '#d62728'])\n",
    "avg_deaths = df.groupby('continentExp')['deaths'].mean().sort_values()\n",
    "sns.barplot(x=avg_deaths.index, y=avg_deaths.values, palette=palette)\n",
    "plt.title('Average Daily Deaths by Continent')\n",
    "plt.ylabel('Deaths')\n",
    "plt.xticks(rotation=45)\n",
    "plt.show()\n"
   ]
  },
  {
   "cell_type": "code",
   "execution_count": 8,
   "id": "eb34c5e0",
   "metadata": {},
   "outputs": [
    {
     "ename": "NameError",
     "evalue": "name 'df' is not defined",
     "output_type": "error",
     "traceback": [
      "\u001b[31m---------------------------------------------------------------------------\u001b[39m",
      "\u001b[31mNameError\u001b[39m                                 Traceback (most recent call last)",
      "\u001b[36mCell\u001b[39m\u001b[36m \u001b[39m\u001b[32mIn[8]\u001b[39m\u001b[32m, line 3\u001b[39m\n\u001b[32m      1\u001b[39m \u001b[38;5;28;01mfrom\u001b[39;00m\u001b[38;5;250m \u001b[39m\u001b[34;01mscipy\u001b[39;00m\u001b[34;01m.\u001b[39;00m\u001b[34;01mstats\u001b[39;00m\u001b[38;5;250m \u001b[39m\u001b[38;5;28;01mimport\u001b[39;00m ttest_ind\n\u001b[32m----> \u001b[39m\u001b[32m3\u001b[39m asia = \u001b[43mdf\u001b[49m[df[\u001b[33m'\u001b[39m\u001b[33mcontinentExp\u001b[39m\u001b[33m'\u001b[39m] == \u001b[33m'\u001b[39m\u001b[33mAsia\u001b[39m\u001b[33m'\u001b[39m][\u001b[33m'\u001b[39m\u001b[33mCumulative_number_for_14_days_of_COVID-19_cases_per_100000\u001b[39m\u001b[33m'\u001b[39m].dropna()\n\u001b[32m      4\u001b[39m europe = df[df[\u001b[33m'\u001b[39m\u001b[33mcontinentExp\u001b[39m\u001b[33m'\u001b[39m] == \u001b[33m'\u001b[39m\u001b[33mEurope\u001b[39m\u001b[33m'\u001b[39m][\u001b[33m'\u001b[39m\u001b[33mCumulative_number_for_14_days_of_COVID-19_cases_per_100000\u001b[39m\u001b[33m'\u001b[39m].dropna()\n\u001b[32m      6\u001b[39m t_stat, p_val = ttest_ind(asia, europe)\n",
      "\u001b[31mNameError\u001b[39m: name 'df' is not defined"
     ]
    }
   ],
   "source": [
    "from scipy.stats import ttest_ind\n",
    "\n",
    "asia = df[df['continentExp'] == 'Asia']['Cumulative_number_for_14_days_of_COVID-19_cases_per_100000'].dropna()\n",
    "europe = df[df['continentExp'] == 'Europe']['Cumulative_number_for_14_days_of_COVID-19_cases_per_100000'].dropna()\n",
    "\n",
    "t_stat, p_val = ttest_ind(asia, europe)\n",
    "print(f\"T-statistic: {t_stat}, P-value: {p_val}\")\n"
   ]
  },
  {
   "cell_type": "code",
   "execution_count": 9,
   "id": "bd365c29",
   "metadata": {},
   "outputs": [
    {
     "ename": "NameError",
     "evalue": "name 'plt' is not defined",
     "output_type": "error",
     "traceback": [
      "\u001b[31m---------------------------------------------------------------------------\u001b[39m",
      "\u001b[31mNameError\u001b[39m                                 Traceback (most recent call last)",
      "\u001b[36mCell\u001b[39m\u001b[36m \u001b[39m\u001b[32mIn[9]\u001b[39m\u001b[32m, line 1\u001b[39m\n\u001b[32m----> \u001b[39m\u001b[32m1\u001b[39m \u001b[43mplt\u001b[49m.hist(df[\u001b[33m'\u001b[39m\u001b[33mcases\u001b[39m\u001b[33m'\u001b[39m], bins=\u001b[32m50\u001b[39m, color=\u001b[33m'\u001b[39m\u001b[33mskyblue\u001b[39m\u001b[33m'\u001b[39m, edgecolor=\u001b[33m'\u001b[39m\u001b[33mblack\u001b[39m\u001b[33m'\u001b[39m)\n\u001b[32m      2\u001b[39m plt.title(\u001b[33m'\u001b[39m\u001b[33mDistribution of Daily Cases\u001b[39m\u001b[33m'\u001b[39m)\n\u001b[32m      3\u001b[39m plt.xlabel(\u001b[33m'\u001b[39m\u001b[33mCases\u001b[39m\u001b[33m'\u001b[39m)\n",
      "\u001b[31mNameError\u001b[39m: name 'plt' is not defined"
     ]
    }
   ],
   "source": [
    "plt.hist(df['cases'], bins=50, color='skyblue', edgecolor='black')\n",
    "plt.title('Distribution of Daily Cases')\n",
    "plt.xlabel('Cases')\n",
    "plt.ylabel('Frequency')\n",
    "plt.grid(True)\n",
    "plt.show()\n"
   ]
  },
  {
   "cell_type": "code",
   "execution_count": 10,
   "id": "7121f90d",
   "metadata": {},
   "outputs": [
    {
     "ename": "NameError",
     "evalue": "name 'pd' is not defined",
     "output_type": "error",
     "traceback": [
      "\u001b[31m---------------------------------------------------------------------------\u001b[39m",
      "\u001b[31mNameError\u001b[39m                                 Traceback (most recent call last)",
      "\u001b[36mCell\u001b[39m\u001b[36m \u001b[39m\u001b[32mIn[10]\u001b[39m\u001b[32m, line 1\u001b[39m\n\u001b[32m----> \u001b[39m\u001b[32m1\u001b[39m df[\u001b[33m'\u001b[39m\u001b[33mmonth\u001b[39m\u001b[33m'\u001b[39m] = \u001b[43mpd\u001b[49m.to_datetime(df[\u001b[33m'\u001b[39m\u001b[33mdateRep\u001b[39m\u001b[33m'\u001b[39m], dayfirst=\u001b[38;5;28;01mTrue\u001b[39;00m).dt.to_period(\u001b[33m'\u001b[39m\u001b[33mM\u001b[39m\u001b[33m'\u001b[39m)\n\u001b[32m      2\u001b[39m monthly_deaths = df.groupby(\u001b[33m'\u001b[39m\u001b[33mmonth\u001b[39m\u001b[33m'\u001b[39m)[\u001b[33m'\u001b[39m\u001b[33mdeaths\u001b[39m\u001b[33m'\u001b[39m].mean()\n\u001b[32m      3\u001b[39m monthly_deaths.plot(marker=\u001b[33m'\u001b[39m\u001b[33mo\u001b[39m\u001b[33m'\u001b[39m)\n",
      "\u001b[31mNameError\u001b[39m: name 'pd' is not defined"
     ]
    }
   ],
   "source": [
    "df['month'] = pd.to_datetime(df['dateRep'], dayfirst=True).dt.to_period('M')\n",
    "monthly_deaths = df.groupby('month')['deaths'].mean()\n",
    "monthly_deaths.plot(marker='o')\n",
    "plt.title('Average Deaths per Month Globally')\n",
    "plt.xlabel('Month')\n",
    "plt.ylabel('Average Deaths')\n",
    "plt.grid()\n",
    "plt.show()\n"
   ]
  },
  {
   "cell_type": "code",
   "execution_count": 11,
   "id": "6e1eb6b2",
   "metadata": {},
   "outputs": [
    {
     "ename": "NameError",
     "evalue": "name 'df' is not defined",
     "output_type": "error",
     "traceback": [
      "\u001b[31m---------------------------------------------------------------------------\u001b[39m",
      "\u001b[31mNameError\u001b[39m                                 Traceback (most recent call last)",
      "\u001b[36mCell\u001b[39m\u001b[36m \u001b[39m\u001b[32mIn[11]\u001b[39m\u001b[32m, line 1\u001b[39m\n\u001b[32m----> \u001b[39m\u001b[32m1\u001b[39m cum_rate = \u001b[43mdf\u001b[49m.groupby(\u001b[33m'\u001b[39m\u001b[33mcountriesAndTerritories\u001b[39m\u001b[33m'\u001b[39m)[\u001b[33m'\u001b[39m\u001b[33mCumulative_number_for_14_days_of_COVID-19_cases_per_100000\u001b[39m\u001b[33m'\u001b[39m].mean()\n\u001b[32m      2\u001b[39m top5 = cum_rate.sort_values(ascending=\u001b[38;5;28;01mFalse\u001b[39;00m).head(\u001b[32m5\u001b[39m)\n\u001b[32m      3\u001b[39m bottom5 = cum_rate.sort_values().head(\u001b[32m5\u001b[39m)\n",
      "\u001b[31mNameError\u001b[39m: name 'df' is not defined"
     ]
    }
   ],
   "source": [
    "cum_rate = df.groupby('countriesAndTerritories')['Cumulative_number_for_14_days_of_COVID-19_cases_per_100000'].mean()\n",
    "top5 = cum_rate.sort_values(ascending=False).head(5)\n",
    "bottom5 = cum_rate.sort_values().head(5)\n",
    "compare = pd.concat([top5, bottom5])\n",
    "compare.plot(kind='barh', color='slateblue')\n",
    "plt.title('Top vs Bottom Countries by 14-Day Cumulative Case Rate')\n",
    "plt.xlabel('Cases per 100k')\n",
    "plt.show()\n"
   ]
  },
  {
   "cell_type": "code",
   "execution_count": null,
   "id": "c77b93ab",
   "metadata": {},
   "outputs": [],
   "source": []
  }
 ],
 "metadata": {
  "kernelspec": {
   "display_name": ".venv",
   "language": "python",
   "name": "python3"
  },
  "language_info": {
   "codemirror_mode": {
    "name": "ipython",
    "version": 3
   },
   "file_extension": ".py",
   "mimetype": "text/x-python",
   "name": "python",
   "nbconvert_exporter": "python",
   "pygments_lexer": "ipython3",
   "version": "3.12.3"
  }
 },
 "nbformat": 4,
 "nbformat_minor": 5
}
